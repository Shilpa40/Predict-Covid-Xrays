{
 "cells": [
  {
   "cell_type": "code",
   "execution_count": null,
   "metadata": {
    "colab": {
     "base_uri": "https://localhost:8080/"
    },
    "id": "IzbegDDeXIVD",
    "outputId": "c6cbf406-3eba-48eb-f63f-372dc7ffdf9e"
   },
   "outputs": [
    {
     "name": "stdout",
     "output_type": "stream",
     "text": [
      "--2021-01-03 18:20:59--  https://www.dropbox.com/sh/neq91ltflgdjfex/AADz-8Jo2O8Y7wcejv6_MeDTa?dl=0\n",
      "Resolving www.dropbox.com (www.dropbox.com)... 162.125.1.18, 2620:100:6016:18::a27d:112\n",
      "Connecting to www.dropbox.com (www.dropbox.com)|162.125.1.18|:443... connected.\n",
      "HTTP request sent, awaiting response... 301 Moved Permanently\n",
      "Location: /sh/raw/neq91ltflgdjfex/AADz-8Jo2O8Y7wcejv6_MeDTa [following]\n",
      "--2021-01-03 18:20:59--  https://www.dropbox.com/sh/raw/neq91ltflgdjfex/AADz-8Jo2O8Y7wcejv6_MeDTa\n",
      "Reusing existing connection to www.dropbox.com:443.\n",
      "HTTP request sent, awaiting response... 302 Found\n",
      "Location: https://ucade76e8d681de1ff98268321a7.dl.dropboxusercontent.com/zip_download_get/Aps5AjdwaaWGjyPHsZIf0ijuk8ZFlvMFXBgwzLR0XysRNIkQMBf86XU6PLgYcB0GWaETe16Cj8Hy8icXKxsCEP6vXKZE6FWv7fiQ4DexnVb6TQ [following]\n",
      "--2021-01-03 18:20:59--  https://ucade76e8d681de1ff98268321a7.dl.dropboxusercontent.com/zip_download_get/Aps5AjdwaaWGjyPHsZIf0ijuk8ZFlvMFXBgwzLR0XysRNIkQMBf86XU6PLgYcB0GWaETe16Cj8Hy8icXKxsCEP6vXKZE6FWv7fiQ4DexnVb6TQ\n",
      "Resolving ucade76e8d681de1ff98268321a7.dl.dropboxusercontent.com (ucade76e8d681de1ff98268321a7.dl.dropboxusercontent.com)... 162.125.1.15, 2620:100:6017:15::a27d:20f\n",
      "Connecting to ucade76e8d681de1ff98268321a7.dl.dropboxusercontent.com (ucade76e8d681de1ff98268321a7.dl.dropboxusercontent.com)|162.125.1.15|:443... connected.\n",
      "HTTP request sent, awaiting response... 200 OK\n",
      "Length: 191591955 (183M) [application/zip]\n",
      "Saving to: ‘AADz-8Jo2O8Y7wcejv6_MeDTa?dl=0’\n",
      "\n",
      "AADz-8Jo2O8Y7wcejv6 100%[===================>] 182.72M  4.19MB/s    in 28s     \n",
      "\n",
      "2021-01-03 18:21:28 (6.46 MB/s) - ‘AADz-8Jo2O8Y7wcejv6_MeDTa?dl=0’ saved [191591955/191591955]\n",
      "\n"
     ]
    }
   ],
   "source": [
    "!wget https://www.dropbox.com/sh/neq91ltflgdjfex/AADz-8Jo2O8Y7wcejv6_MeDTa?dl=0"
   ]
  },
  {
   "cell_type": "code",
   "execution_count": null,
   "metadata": {
    "id": "LJf0HdZkBd91"
   },
   "outputs": [],
   "source": [
    "!unzip Covid_19"
   ]
  },
  {
   "cell_type": "code",
   "execution_count": null,
   "metadata": {
    "id": "Xitlmb3I-vvo"
   },
   "outputs": [],
   "source": [
    "TRAIN_PATH = \"CovidDataset/Train\"\r\n",
    "VAL_PATH = \"CovidDataset/Test\""
   ]
  },
  {
   "cell_type": "code",
   "execution_count": null,
   "metadata": {
    "id": "79sJ_MuCCnoJ"
   },
   "outputs": [],
   "source": [
    "import numpy as np\r\n",
    "import matplotlib.pyplot as plt\r\n",
    "import keras\r\n",
    "from keras.layers import *\r\n",
    "from keras.preprocessing import image\r\n",
    "from keras.models import Sequential\r\n"
   ]
  },
  {
   "cell_type": "code",
   "execution_count": null,
   "metadata": {
    "id": "xqp53ytdDC1r"
   },
   "outputs": [],
   "source": [
    "\r\n",
    "#CNN Based Model in Keras\r\n",
    "\r\n",
    "model = Sequential()\r\n",
    "model.add(Conv2D(32,kernel_size=(3,3),activation='relu',input_shape=(224,224,3)))\r\n",
    "model.add(Conv2D(64,(3,3),activation='relu'))\r\n",
    "model.add(MaxPooling2D(pool_size=(2,2)))\r\n",
    "model.add(Dropout(0.25))\r\n",
    "\r\n",
    "model.add(Conv2D(64,(3,3),activation='relu'))\r\n",
    "model.add(MaxPooling2D(pool_size=(2,2)))\r\n",
    "model.add(Dropout(0.25))\r\n",
    "\r\n",
    "model.add(Conv2D(128,(3,3),activation='relu'))\r\n",
    "model.add(MaxPooling2D(pool_size=(2,2)))\r\n",
    "model.add(Dropout(0.25))\r\n",
    "\r\n",
    "model.add(Flatten())\r\n",
    "model.add(Dense(64,activation='relu'))\r\n",
    "model.add(Dropout(0.5))\r\n",
    "model.add(Dense(1,activation='sigmoid'))\r\n",
    "\r\n",
    "model.compile(loss=keras.losses.binary_crossentropy,optimizer='adam',metrics=['accuracy'])\r\n",
    "\r\n"
   ]
  },
  {
   "cell_type": "code",
   "execution_count": null,
   "metadata": {
    "colab": {
     "base_uri": "https://localhost:8080/"
    },
    "id": "8z6HW83KJDje",
    "outputId": "8272b27d-4f33-49d8-868f-432fb90bcc0b"
   },
   "outputs": [
    {
     "name": "stdout",
     "output_type": "stream",
     "text": [
      "Model: \"sequential_10\"\n",
      "_________________________________________________________________\n",
      "Layer (type)                 Output Shape              Param #   \n",
      "=================================================================\n",
      "conv2d_40 (Conv2D)           (None, 222, 222, 32)      896       \n",
      "_________________________________________________________________\n",
      "conv2d_41 (Conv2D)           (None, 220, 220, 64)      18496     \n",
      "_________________________________________________________________\n",
      "max_pooling2d_30 (MaxPooling (None, 110, 110, 64)      0         \n",
      "_________________________________________________________________\n",
      "dropout_40 (Dropout)         (None, 110, 110, 64)      0         \n",
      "_________________________________________________________________\n",
      "conv2d_42 (Conv2D)           (None, 108, 108, 64)      36928     \n",
      "_________________________________________________________________\n",
      "max_pooling2d_31 (MaxPooling (None, 54, 54, 64)        0         \n",
      "_________________________________________________________________\n",
      "dropout_41 (Dropout)         (None, 54, 54, 64)        0         \n",
      "_________________________________________________________________\n",
      "conv2d_43 (Conv2D)           (None, 52, 52, 128)       73856     \n",
      "_________________________________________________________________\n",
      "max_pooling2d_32 (MaxPooling (None, 26, 26, 128)       0         \n",
      "_________________________________________________________________\n",
      "dropout_42 (Dropout)         (None, 26, 26, 128)       0         \n",
      "_________________________________________________________________\n",
      "flatten_10 (Flatten)         (None, 86528)             0         \n",
      "_________________________________________________________________\n",
      "dense_20 (Dense)             (None, 64)                5537856   \n",
      "_________________________________________________________________\n",
      "dropout_43 (Dropout)         (None, 64)                0         \n",
      "_________________________________________________________________\n",
      "dense_21 (Dense)             (None, 1)                 65        \n",
      "=================================================================\n",
      "Total params: 5,668,097\n",
      "Trainable params: 5,668,097\n",
      "Non-trainable params: 0\n",
      "_________________________________________________________________\n"
     ]
    }
   ],
   "source": [
    "model.summary()"
   ]
  },
  {
   "cell_type": "code",
   "execution_count": null,
   "metadata": {
    "colab": {
     "base_uri": "https://localhost:8080/"
    },
    "id": "0gwPgKZyJ6qC",
    "outputId": "0e410d22-4d65-498c-935a-25472f2a63e0"
   },
   "outputs": [
    {
     "name": "stdout",
     "output_type": "stream",
     "text": [
      "Found 313 images belonging to 2 classes.\n"
     ]
    }
   ],
   "source": [
    "#Train from scratch\r\n",
    "\r\n",
    "train_datagen = image.ImageDataGenerator(\r\n",
    "    rescale = 1./255,\r\n",
    "    shear_range = 0.2,\r\n",
    "    zoom_range = 0.2,\r\n",
    "    horizontal_flip = True\r\n",
    ")\r\n",
    "\r\n",
    "test_dataset =image.ImageDataGenerator(\r\n",
    "    rescale = 1./255\r\n",
    ")\r\n",
    "\r\n",
    "train_generator = train_datagen.flow_from_directory(\r\n",
    "    'CovidDataset/Train',\r\n",
    "    target_size = (224,224),\r\n",
    "    batch_size = 32,\r\n",
    "    class_mode = 'binary'\r\n",
    ")\r\n"
   ]
  },
  {
   "cell_type": "code",
   "execution_count": null,
   "metadata": {
    "colab": {
     "base_uri": "https://localhost:8080/"
    },
    "id": "qIYvd5SyNLRx",
    "outputId": "083d749e-ed4a-48bc-8c1b-18bdb60f2dbc"
   },
   "outputs": [
    {
     "data": {
      "text/plain": [
       "{'Covid': 0, 'Normal': 1}"
      ]
     },
     "execution_count": 102,
     "metadata": {
      "tags": []
     },
     "output_type": "execute_result"
    }
   ],
   "source": [
    "train_generator.class_indices"
   ]
  },
  {
   "cell_type": "code",
   "execution_count": null,
   "metadata": {
    "colab": {
     "base_uri": "https://localhost:8080/"
    },
    "id": "tf43hbC8Ntk0",
    "outputId": "a76e01e7-eb82-43de-86fa-b800e372018a"
   },
   "outputs": [
    {
     "name": "stdout",
     "output_type": "stream",
     "text": [
      "Found 79 images belonging to 2 classes.\n"
     ]
    }
   ],
   "source": [
    "validation_generator = test_dataset.flow_from_directory(\r\n",
    "    'CovidDataset/Val',\r\n",
    "    target_size = (224,224),\r\n",
    "    batch_size = 32,\r\n",
    "    class_mode = 'binary'\r\n",
    ")"
   ]
  },
  {
   "cell_type": "code",
   "execution_count": null,
   "metadata": {
    "colab": {
     "base_uri": "https://localhost:8080/"
    },
    "id": "WZahIow9Omjk",
    "outputId": "65625378-164f-457e-f8e5-fb014847a6ab"
   },
   "outputs": [
    {
     "name": "stderr",
     "output_type": "stream",
     "text": [
      "/usr/local/lib/python3.6/dist-packages/tensorflow/python/keras/engine/training.py:1844: UserWarning: `Model.fit_generator` is deprecated and will be removed in a future version. Please use `Model.fit`, which supports generators.\n",
      "  warnings.warn('`Model.fit_generator` is deprecated and '\n"
     ]
    },
    {
     "name": "stdout",
     "output_type": "stream",
     "text": [
      "Epoch 1/10\n",
      "8/8 [==============================] - 13s 2s/step - loss: 0.7892 - accuracy: 0.6084 - val_loss: 0.6341 - val_accuracy: 0.8750\n",
      "Epoch 2/10\n",
      "8/8 [==============================] - 11s 1s/step - loss: 0.5242 - accuracy: 0.7345 - val_loss: 0.4542 - val_accuracy: 0.9688\n",
      "Epoch 3/10\n",
      "8/8 [==============================] - 11s 1s/step - loss: 0.2630 - accuracy: 0.9004 - val_loss: 0.2290 - val_accuracy: 0.9375\n",
      "Epoch 4/10\n",
      "8/8 [==============================] - 11s 1s/step - loss: 0.2279 - accuracy: 0.9235 - val_loss: 0.2519 - val_accuracy: 0.9375\n",
      "Epoch 5/10\n",
      "8/8 [==============================] - 11s 1s/step - loss: 0.2766 - accuracy: 0.8915 - val_loss: 0.2407 - val_accuracy: 0.9531\n",
      "Epoch 6/10\n",
      "8/8 [==============================] - 11s 1s/step - loss: 0.2110 - accuracy: 0.9515 - val_loss: 0.0790 - val_accuracy: 0.9844\n",
      "Epoch 7/10\n",
      "8/8 [==============================] - 11s 1s/step - loss: 0.1785 - accuracy: 0.9321 - val_loss: 0.1713 - val_accuracy: 0.9688\n",
      "Epoch 8/10\n",
      "8/8 [==============================] - 11s 1s/step - loss: 0.2012 - accuracy: 0.9175 - val_loss: 0.1895 - val_accuracy: 0.9844\n",
      "Epoch 9/10\n",
      "8/8 [==============================] - 11s 1s/step - loss: 0.1706 - accuracy: 0.9482 - val_loss: 0.1566 - val_accuracy: 0.9844\n",
      "Epoch 10/10\n",
      "8/8 [==============================] - 11s 1s/step - loss: 0.1079 - accuracy: 0.9737 - val_loss: 0.1570 - val_accuracy: 0.9688\n"
     ]
    }
   ],
   "source": [
    "history = model.fit_generator(\r\n",
    "    train_generator,\r\n",
    "    steps_per_epoch = 8,\r\n",
    "    epochs =10,\r\n",
    "    validation_data = validation_generator,\r\n",
    "    validation_steps=2\r\n",
    ")"
   ]
  },
  {
   "cell_type": "code",
   "execution_count": null,
   "metadata": {
    "colab": {
     "base_uri": "https://localhost:8080/"
    },
    "id": "yZnceL3dII8j",
    "outputId": "34d5968e-af10-4f89-bd48-6783b36393f8"
   },
   "outputs": [
    {
     "name": "stderr",
     "output_type": "stream",
     "text": [
      "/usr/local/lib/python3.6/dist-packages/tensorflow/python/keras/engine/training.py:1877: UserWarning: `Model.evaluate_generator` is deprecated and will be removed in a future version. Please use `Model.evaluate`, which supports generators.\n",
      "  warnings.warn('`Model.evaluate_generator` is deprecated and '\n"
     ]
    },
    {
     "data": {
      "text/plain": [
       "[0.10035784542560577, 0.9648562073707581]"
      ]
     },
     "execution_count": 105,
     "metadata": {
      "tags": []
     },
     "output_type": "execute_result"
    }
   ],
   "source": [
    "model.evaluate_generator(train_generator)"
   ]
  },
  {
   "cell_type": "code",
   "execution_count": null,
   "metadata": {
    "colab": {
     "base_uri": "https://localhost:8080/"
    },
    "id": "R6I3uRhrIQTr",
    "outputId": "b9f57bbe-9725-4a5e-ede1-fb244682bde4"
   },
   "outputs": [
    {
     "name": "stderr",
     "output_type": "stream",
     "text": [
      "/usr/local/lib/python3.6/dist-packages/tensorflow/python/keras/engine/training.py:1877: UserWarning: `Model.evaluate_generator` is deprecated and will be removed in a future version. Please use `Model.evaluate`, which supports generators.\n",
      "  warnings.warn('`Model.evaluate_generator` is deprecated and '\n"
     ]
    },
    {
     "data": {
      "text/plain": [
       "[0.13151411712169647, 0.9746835231781006]"
      ]
     },
     "execution_count": 106,
     "metadata": {
      "tags": []
     },
     "output_type": "execute_result"
    }
   ],
   "source": [
    "model.evaluate_generator(validation_generator)"
   ]
  },
  {
   "cell_type": "code",
   "execution_count": null,
   "metadata": {
    "colab": {
     "base_uri": "https://localhost:8080/",
     "height": 279
    },
    "id": "KPbzl1q4Ia16",
    "outputId": "2677b73a-f066-44f3-d250-8152a6a4f7bc"
   },
   "outputs": [
    {
     "data": {
      "image/png": "[encoded data removed]",
      "text/plain": [
       "<Figure size 432x288 with 1 Axes>"
      ]
     },
     "metadata": {
      "needs_background": "light",
      "tags": []
     },
     "output_type": "display_data"
    }
   ],
   "source": [
    "from matplotlib import pyplot as plt\r\n",
    "\r\n",
    "plt.plot(history.history['loss'],'r',label='training loss')\r\n",
    "plt.plot(history.history['val_loss'],label='validation loss')\r\n",
    "plt.xlabel('# epochs')\r\n",
    "plt.ylabel('loss')\r\n",
    "plt.legend()\r\n",
    "plt.show()"
   ]
  },
  {
   "cell_type": "code",
   "execution_count": null,
   "metadata": {
    "colab": {
     "base_uri": "https://localhost:8080/",
     "height": 283
    },
    "id": "9-gKrymoolxx",
    "outputId": "57184a47-85ac-470c-9212-df895c4f75c7"
   },
   "outputs": [
    {
     "data": {
      "image/png": "[encoded data removed]",
      "text/plain": [
       "<Figure size 432x288 with 1 Axes>"
      ]
     },
     "metadata": {
      "needs_background": "light",
      "tags": []
     },
     "output_type": "display_data"
    }
   ],
   "source": [
    "plt.plot(history.history['accuracy'],'r',label='training accuracy')\r\n",
    "plt.plot(history.history['val_accuracy'],label='validation accuracy')\r\n",
    "plt.xlabel('# epochs')\r\n",
    "plt.ylabel('loss')\r\n",
    "plt.legend()\r\n",
    "plt.show()"
   ]
  },
  {
   "cell_type": "code",
   "execution_count": null,
   "metadata": {
    "colab": {
     "base_uri": "https://localhost:8080/"
    },
    "id": "VM6mv0YXGMlY",
    "outputId": "bcbd8858-7114-468c-ff6b-fae20500f7bf"
   },
   "outputs": [
    {
     "name": "stdout",
     "output_type": "stream",
     "text": [
      "INFO:tensorflow:Assets written to: predict_covid.model/assets\n"
     ]
    }
   ],
   "source": [
    "model.save(\"predict_covid.model\")"
   ]
  },
  {
   "cell_type": "code",
   "execution_count": null,
   "metadata": {
    "id": "hIOL43mFgzij"
   },
   "outputs": [],
   "source": [
    "model.save(\"predict_covid.h5\")"
   ]
  },
  {
   "cell_type": "code",
   "execution_count": null,
   "metadata": {
    "id": "AfBa4Ttwo5Q3"
   },
   "outputs": [],
   "source": []
  },
  {
   "cell_type": "code",
   "execution_count": null,
   "metadata": {},
   "outputs": [],
   "source": []
  }
 ],
 "metadata": {
  "accelerator": "GPU",
  "colab": {
   "collapsed_sections": [],
   "name": "Copy of Covid_19",
   "provenance": []
  },
  "kernelspec": {
   "display_name": "Python 3",
   "language": "python",
   "name": "python3"
  },
  "language_info": {
   "codemirror_mode": {
    "name": "ipython",
    "version": 3
   },
   "file_extension": ".py",
   "mimetype": "text/x-python",
   "name": "python",
   "nbconvert_exporter": "python",
   "pygments_lexer": "ipython3",
   "version": "3.8.5"
  }
 },
 "nbformat": 4,
 "nbformat_minor": 4
}
